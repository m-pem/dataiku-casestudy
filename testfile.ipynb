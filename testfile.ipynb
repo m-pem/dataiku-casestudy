{
 "cells": [
  {
   "cell_type": "code",
   "execution_count": 18,
   "metadata": {},
   "outputs": [
    {
     "name": "stdout",
     "output_type": "stream",
     "text": [
      "<class 'pandas.core.frame.DataFrame'>\n",
      "RangeIndex: 299285 entries, 0 to 299284\n",
      "Data columns (total 42 columns):\n",
      " #   Column                                      Non-Null Count   Dtype  \n",
      "---  ------                                      --------------   -----  \n",
      " 0   age                                         299285 non-null  int64  \n",
      " 1   class of worker                             299285 non-null  object \n",
      " 2   detailed industry recode                    299285 non-null  int64  \n",
      " 3   detailed occupation recode                  299285 non-null  int64  \n",
      " 4   education                                   299285 non-null  object \n",
      " 5   wage per hour                               299285 non-null  int64  \n",
      " 6   enroll in edu inst last wk                  299285 non-null  object \n",
      " 7   marital stat                                299285 non-null  object \n",
      " 8   major industry code                         299285 non-null  object \n",
      " 9   major occupation code                       299285 non-null  object \n",
      " 10  race                                        299285 non-null  object \n",
      " 11  hispanic origin                             299285 non-null  object \n",
      " 12  sex                                         299285 non-null  object \n",
      " 13  member of a labor union                     299285 non-null  object \n",
      " 14  reason for unemployment                     299285 non-null  object \n",
      " 15  full or part time employment stat           299285 non-null  object \n",
      " 16  capital gains                               299285 non-null  int64  \n",
      " 17  capital losses                              299285 non-null  int64  \n",
      " 18  dividends from stocks                       299285 non-null  int64  \n",
      " 19  tax filer stat                              299285 non-null  object \n",
      " 20  region of previous residence                299285 non-null  object \n",
      " 21  state of previous residence                 299285 non-null  object \n",
      " 22  detailed household and family stat          299285 non-null  object \n",
      " 23  detailed household summary in household     299285 non-null  object \n",
      " 24  instance weight                             299285 non-null  float64\n",
      " 25  migration code-change in msa                299285 non-null  object \n",
      " 26  migration code-change in reg                299285 non-null  object \n",
      " 27  migration code-move within reg              299285 non-null  object \n",
      " 28  live in this house 1 year ago               299285 non-null  object \n",
      " 29  migration prev res in sunbelt               299285 non-null  object \n",
      " 30  num persons worked for employer             299285 non-null  int64  \n",
      " 31  family members under 18                     299285 non-null  object \n",
      " 32  country of birth father                     299285 non-null  object \n",
      " 33  country of birth mother                     299285 non-null  object \n",
      " 34  country of birth self                       299285 non-null  object \n",
      " 35  citizenship                                 299285 non-null  object \n",
      " 36  own business or self employed               299285 non-null  int64  \n",
      " 37  fill inc questionnaire for veteran's admin  299285 non-null  object \n",
      " 38  veterans benefits                           299285 non-null  int64  \n",
      " 39  weeks worked in year                        299285 non-null  int64  \n",
      " 40  year                                        299285 non-null  int64  \n",
      " 41  target                                      299285 non-null  object \n",
      "dtypes: float64(1), int64(12), object(29)\n",
      "memory usage: 95.9+ MB\n"
     ]
    }
   ],
   "source": [
    "import pandas as pd\n",
    "import numpy as np\n",
    "import matplotlib.pyplot as plt\n",
    "\n",
    "# Read in data (if we have time, come back and look at datatypes and if there is a specific way we want to handle them)\n",
    "column_names = pd.read_csv('raw_data/column_names.csv', sep=':', header=None)\n",
    "actual_column_names = column_names.iloc[:,0].tolist()\n",
    "raw_census_data_learn = pd.read_csv('raw_data/census_income_learn.csv', header=None, names=actual_column_names)\n",
    "raw_census_data_test = pd.read_csv('raw_data/census_income_test.csv', header=None, names=actual_column_names)\n",
    "raw_census_data_all = pd.concat([raw_census_data_learn, raw_census_data_test], ignore_index=True)\n",
    "# raw_census_data_all.head().to_csv(\"raw_data/census_income_all_preview.csv\", \",\", index=False)\n",
    "pd.set_option('display.max_columns', None)\n",
    "raw_census_data_all.head()\n",
    "raw_census_data_all.info()\n",
    "\n",
    "# Notes for morley. We've got our data metadata so were validating what were seeing against that.\n",
    "# The dataset is weighted and is unbalanced so this needs to be taken into account. \n",
    "# There appears to be duplicates in the data so lets remove them"
   ]
  },
  {
   "cell_type": "code",
   "execution_count": 19,
   "metadata": {},
   "outputs": [
    {
     "name": "stderr",
     "output_type": "stream",
     "text": [
      "/var/folders/58/sz04nswx0ys7gx6frmv625t00000gn/T/ipykernel_91967/2588514644.py:16: FutureWarning: Starting with pandas version 3.0 all arguments of to_csv except for the argument 'path_or_buf' will be keyword-only.\n",
      "  raw_census_data_all.to_csv(\"raw_data/census_income_all_cleaned.csv\", \",\", index=False)\n"
     ]
    }
   ],
   "source": [
    "# when we looked at the raw data we saw a similar number of records, the business decsion was made to only include the most recent data, we could do a future investiation to see if this changes year over year\n",
    "raw_census_data_all = raw_census_data_all[raw_census_data_all['year'] == 95]\n",
    "# Drop duplicates\n",
    "raw_census_data_all.drop_duplicates(inplace=True)\n",
    "# after talking with the business they believe that these features will have the biggest impact on weather or not someone makes over or under 50K a year.\n",
    "columns_to_keep = ['sex', 'age', 'member of a labor union', 'country of birth self', 'education', 'major occupation code', 'wage per hour', 'year', 'instance weight', 'target']\n",
    "raw_census_data_all = raw_census_data_all[columns_to_keep]\n",
    "# only going to look at the most recent year\n",
    "\n",
    "\n",
    "# dont know how much data validation I should be doing here but lets move on.\n",
    "\n",
    "# Going to update our target value to be 0 or 1 I'll wait to do this until we have a better understanding of the data\n",
    "# raw_census_data_all['target'] = raw_census_data_all['target'].replace({'-50000': 0, '50000': 1})\n",
    "\n",
    "raw_census_data_all.to_csv(\"raw_data/census_income_all_cleaned.csv\", \",\", index=False)\n",
    "census_income_all = pd.read_csv('raw_data/census_income_all_cleaned.csv')"
   ]
  },
  {
   "cell_type": "code",
   "execution_count": null,
   "metadata": {},
   "outputs": [
    {
     "name": "stdout",
     "output_type": "stream",
     "text": [
      "       sex  instance weight\n",
      "0   Female     1.313315e+08\n",
      "1     Male     1.251344e+08\n"
     ]
    },
    {
     "data": {
      "image/png": "[encoded data removed]",
      "text/plain": [
       "<Figure size 640x480 with 1 Axes>"
      ]
     },
     "metadata": {},
     "output_type": "display_data"
    }
   ],
   "source": [
    "# Plan now is to plot all of my key features to get an understanding of the data\n",
    "\n",
    "grouped_data = census_income_all.groupby(['sex'])['instance weight'].sum().reset_index()\n",
    "print(grouped_data)\n",
    "\n",
    "grouped_data.plot(kind='bar', x='sex', y='instance weight')\n",
    "\n",
    "plt.xlabel('Sex')\n",
    "plt.ylabel('Instance Weight')\n",
    "plt.title('Instance Weight by Sex')\n",
    "plt.legend().set_visible(False)\n",
    "plt.show()"
   ]
  },
  {
   "cell_type": "code",
   "execution_count": null,
   "metadata": {},
   "outputs": [
    {
     "ename": "ModuleNotFoundError",
     "evalue": "No module named 'seaborn'",
     "output_type": "error",
     "traceback": [
      "\u001b[0;31m---------------------------------------------------------------------------\u001b[0m",
      "\u001b[0;31mModuleNotFoundError\u001b[0m                       Traceback (most recent call last)",
      "Cell \u001b[0;32mIn[33], line 1\u001b[0m\n\u001b[0;32m----> 1\u001b[0m \u001b[38;5;28;01mimport\u001b[39;00m \u001b[38;5;21;01mseaborn\u001b[39;00m \u001b[38;5;28;01mas\u001b[39;00m \u001b[38;5;21;01msns\u001b[39;00m\n\u001b[1;32m      2\u001b[0m \u001b[38;5;28;01mimport\u001b[39;00m \u001b[38;5;21;01mmatplotlib\u001b[39;00m\u001b[38;5;21;01m.\u001b[39;00m\u001b[38;5;21;01mpyplot\u001b[39;00m \u001b[38;5;28;01mas\u001b[39;00m \u001b[38;5;21;01mplt\u001b[39;00m\n\u001b[1;32m      4\u001b[0m \u001b[38;5;66;03m# List of features to plot\u001b[39;00m\n",
      "\u001b[0;31mModuleNotFoundError\u001b[0m: No module named 'seaborn'"
     ]
    }
   ],
   "source": [
    "import seaborn as sns\n",
    "import matplotlib.pyplot as plt\n",
    "\n",
    "# List of features to plot\n",
    "features = ['sex', 'age', 'member of a labor union', 'country of birth self', 'education', 'major occupation code', 'wage per hour']\n",
    "\n",
    "for feature in features:\n",
    "    plt.figure(figsize=(8, 6))\n",
    "    \n",
    "    if census_income_all[feature].dtype == 'object':\n",
    "        # Categorical feature: use bar plot with FacetGrid\n",
    "        g = sns.FacetGrid(census_income_all, col=\"target\", height=4, aspect=1)\n",
    "        g.map(sns.countplot, feature)\n",
    "        g.set_axis_labels(feature.capitalize(), 'Count')\n",
    "        g.set_titles(col_template=\"Target: {col_name}\")\n",
    "    else:\n",
    "        # Numerical feature: use histogram with FacetGrid\n",
    "        g = sns.FacetGrid(census_income_all, col=\"target\", height=4, aspect=1)\n",
    "        g.map(sns.histplot, feature, weights='instance_weight', bins=30, kde=False)\n",
    "        g.set_axis_labels(feature.capitalize(), 'Sum of Instance Weight')\n",
    "        g.set_titles(col_template=\"Target: {col_name}\")\n",
    "    \n",
    "    plt.tight_layout()\n",
    "    plt.show()\n",
    "\n"
   ]
  },
  {
   "cell_type": "code",
   "execution_count": null,
   "metadata": {},
   "outputs": [],
   "source": []
  }
 ],
 "metadata": {
  "kernelspec": {
   "display_name": "venv",
   "language": "python",
   "name": "python3"
  },
  "language_info": {
   "codemirror_mode": {
    "name": "ipython",
    "version": 3
   },
   "file_extension": ".py",
   "mimetype": "text/x-python",
   "name": "python",
   "nbconvert_exporter": "python",
   "pygments_lexer": "ipython3",
   "version": "3.11.5"
  }
 },
 "nbformat": 4,
 "nbformat_minor": 2
}
